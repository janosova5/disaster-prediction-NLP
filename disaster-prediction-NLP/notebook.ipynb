{
 "cells": [
  {
   "cell_type": "code",
   "execution_count": 11,
   "metadata": {},
   "outputs": [],
   "source": [
    "# when installing the libraries after cloning the repository, use this command: pip install -r requirements.txt\n",
    "import numpy as np\n",
    "import pandas as pd\n",
    "\n",
    "from matplotlib import pyplot as plt\n",
    "\n",
    "import setuptools.dist\n",
    "\n",
    "from tensorflow import keras\n",
    "from keras import Sequential\n",
    "from keras.layers import Dense, Embedding, SimpleRNN, LSTM\n",
    "from keras.utils import pad_sequences"
   ]
  },
  {
   "cell_type": "code",
   "execution_count": 17,
   "metadata": {},
   "outputs": [],
   "source": [
    "train_data = pd.read_csv(\"train.csv\")"
   ]
  },
  {
   "cell_type": "code",
   "execution_count": null,
   "metadata": {},
   "outputs": [],
   "source": [
    "import re\n",
    "import ssl\n",
    "ssl._create_default_https_context = ssl._create_unverified_context\n",
    "\n",
    "import nltk\n",
    "nltk.download('vader_lexicon')\n",
    "from nltk.sentiment import SentimentIntensityAnalyzer\n",
    "\n",
    "def add_hashtags_column(df):\n",
    "    new_df = df.copy()\n",
    "\n",
    "    # Extract words that start with '#' and remove the '#' symbol and remove also special characters and numbers\n",
    "    new_df['hashtags'] = new_df['text'].apply(\n",
    "        lambda x: [re.sub(r'[^a-zA-Z]', '', re.sub(r'^#+', '', word)) for word in x.split() if word.startswith('#')]\n",
    "    )\n",
    "\n",
    "    return new_df\n",
    "\n",
    "def get_sentiment(text):\n",
    "    # Initialize VADER sentiment intensity analyzer\n",
    "    sia = SentimentIntensityAnalyzer()\n",
    "\n",
    "    sentiment_score = sia.polarity_scores(text)\n",
    "\n",
    "    if sentiment_score['compound'] >= 0.05:\n",
    "        return 'Positive'\n",
    "    elif sentiment_score['compound'] <= -0.05:\n",
    "        return 'Negative'\n",
    "    else:\n",
    "        return 'Neutral'\n"
   ]
  },
  {
   "cell_type": "code",
   "execution_count": 20,
   "metadata": {},
   "outputs": [],
   "source": [
    "hashtagged_data = add_hashtags_column(train_data)\n",
    "hashtagged_data['sentiment'] = hashtagged_data['text'].apply(get_sentiment)"
   ]
  }
 ],
 "metadata": {
  "kernelspec": {
   "display_name": "Python 3",
   "language": "python",
   "name": "python3"
  },
  "language_info": {
   "codemirror_mode": {
    "name": "ipython",
    "version": 3
   },
   "file_extension": ".py",
   "mimetype": "text/x-python",
   "name": "python",
   "nbconvert_exporter": "python",
   "pygments_lexer": "ipython3",
   "version": "3.8.10"
  }
 },
 "nbformat": 4,
 "nbformat_minor": 2
}

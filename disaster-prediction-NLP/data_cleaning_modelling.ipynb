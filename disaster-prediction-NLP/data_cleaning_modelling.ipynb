{
 "cells": [
  {
   "cell_type": "code",
   "execution_count": 1,
   "metadata": {},
   "outputs": [],
   "source": [
    "# Import basic libraries\n",
    "import numpy as np\n",
    "import pandas as pd\n",
    "from matplotlib import pyplot as plt"
   ]
  },
  {
   "cell_type": "code",
   "execution_count": 40,
   "metadata": {},
   "outputs": [],
   "source": [
    "# Load datasets\n",
    "train_data = pd.read_csv(\"train.csv\") # Labeled dataset, used for training the model\n",
    "test_data = pd.read_csv(\"test.csv\") # Unlabeled dataset, will be used later for making the prediction"
   ]
  },
  {
   "cell_type": "code",
   "execution_count": null,
   "metadata": {},
   "outputs": [],
   "source": [
    "# Import libraries needed for working with text\n",
    "import re\n",
    "import unidecode\n",
    "# from textblob import TextBlob\n",
    "import nltk\n",
    "import ssl\n",
    "from nltk.corpus import stopwords\n",
    "from nltk.sentiment import SentimentIntensityAnalyzer\n",
    "\n",
    "# This is needed for nltk.download(...), otherwise downloading the NLTK files return errors\n",
    "try:\n",
    "    _create_unverified_https_context = ssl._create_unverified_context\n",
    "except AttributeError:\n",
    "    pass\n",
    "else:\n",
    "    ssl._create_default_https_context = _create_unverified_https_context\n",
    "\n",
    "# Download necessary NLTK data files\n",
    "nltk.download('stopwords')\n",
    "# nltk.download('wordnet')\n",
    "nltk.download('vader_lexicon')\n",
    "\n",
    "import spacy \n",
    "\n",
    "# Load the spaCy model, which is later used for lemmatization\n",
    "nlp = spacy.load('en_core_web_sm')\n",
    "stop_words = set(stopwords.words('english'))\n",
    "sia = SentimentIntensityAnalyzer()"
   ]
  },
  {
   "cell_type": "code",
   "execution_count": 125,
   "metadata": {},
   "outputs": [],
   "source": [
    "# Create custom dictionaries for slang words mapping\n",
    "\n",
    "slang_dict = {\n",
    "    # General abbreviations\n",
    "    \"u\": \"you\",\n",
    "    \"r\": \"are\",\n",
    "    \"ur\": \"your\",\n",
    "    \"urs\": \"yours\",\n",
    "    \"gr8\": \"great\",\n",
    "    \"brb\": \"be right back\",\n",
    "    \"btw\": \"by the way\",\n",
    "    \"idk\": \"I don't know\",\n",
    "    \"imo\": \"in my opinion\",\n",
    "    \"imho\": \"in my humble opinion\",\n",
    "    \"lmk\": \"let me know\",\n",
    "    \"omg\": \"oh my god\",\n",
    "    \"omfg\": \"oh my f***ing god\",\n",
    "    \"ttyl\": \"talk to you later\",\n",
    "    \"smh\": \"shaking my head\",\n",
    "    \"fyi\": \"for your information\",\n",
    "    \"jk\": \"just kidding\",\n",
    "    \"nvm\": \"never mind\",\n",
    "    \"bc\": \"because\",\n",
    "    \"pls\": \"please\",\n",
    "    \"plss\": \"please\",\n",
    "    \"plsss\": \"please\",\n",
    "    \"plz\": \"please\",\n",
    "    \"thx\": \"thanks\",\n",
    "    \"k\": \"okay\",\n",
    "    \"tho\": \"though\",\n",
    "    \"b4\": \"before\",\n",
    "    \"asap\": \"as soon as possible\",\n",
    "    \"bday\": \"birthday\",\n",
    "    \"g2g\": \"got to go\",\n",
    "    \"atm\": \"at the moment\",\n",
    "    \"grats\": \"congratulations\",\n",
    "    \"congrats\": \"congratulations\",\n",
    "    \"omw\": \"on my way\",\n",
    "    \"sry\": \"sorry\",\n",
    "    \"thru\": \"through\",\n",
    "    \"ttys\": \"talk to you soon\",\n",
    "    \"w/\": \"with\",\n",
    "    \"w/o\": \"without\",\n",
    "    \"pkwy\": \"parkway\",\n",
    "    \n",
    "    # Social media abbreviations\n",
    "    \"fb\": \"Facebook\",\n",
    "    \"ig\": \"Instagram\",\n",
    "    \"yt\": \"YouTube\",\n",
    "    \"dm\": \"direct message\",\n",
    "    \"rt\": \"retweet\",\n",
    "    \"irl\": \"in real life\",\n",
    "    \"fomo\": \"fear of missing out\",\n",
    "    \"tbt\": \"throwback Thursday\",\n",
    "    \"lmao\": \"laughing my a** off\",\n",
    "    \"lmfao\": \"laughing my f***ing a** off\",\n",
    "    \"yolo\": \"you only live once\",\n",
    "    \"icymi\": \"in case you missed it\",\n",
    "    \"hmu\": \"hit me up\",\n",
    "    \"sm\": \"so much\",\n",
    "    \n",
    "    # Text message and internet slang\n",
    "    \"y\": \"why\",\n",
    "    \"kinda\": \"kind of\",\n",
    "    \"gonna\": \"going to\",\n",
    "    \"wanna\": \"want to\",\n",
    "    \"gotta\": \"got to\",\n",
    "    \"finna\": \"fixing to\",\n",
    "    \"lemme\": \"let me\",\n",
    "    \"cya\": \"see you\",\n",
    "    \"cu\": \"see you\",\n",
    "    \"ppl\": \"people\",\n",
    "    \"luv\": \"love\",\n",
    "    \"bby\": \"baby\",\n",
    "    \"bae\": \"before anyone else\",\n",
    "    \"np\": \"no problem\",\n",
    "    \"rn\": \"right now\",\n",
    "    \"wyd\": \"what are you doing?\",\n",
    "    \"wya\": \"where you at?\",\n",
    "    \"ikr\": \"I know, right?\",\n",
    "    \"fam\": \"family\",\n",
    "    \"bruh\": \"brother\",\n",
    "    \"sis\": \"sister\",\n",
    "    \"thx\": \"thanks\",\n",
    "    \"gg\": \"good game\",\n",
    "    \"ez\": \"easy\",\n",
    "    \"btwn\": \"between\",\n",
    "    \"ftw\": \"for the win\",\n",
    "    \"lit\": \"amazing\",\n",
    "    \"sus\": \"suspicious\",\n",
    "    \"l8r\": \"later\",\n",
    "    \"2nite\": \"tonight\",\n",
    "    \"tmi\": \"too much information\",\n",
    "    \"jk\": \"just kidding\",\n",
    "    \"oml\": \"oh my lord\",\n",
    "    \"idc\": \"I don't care\",\n",
    "    \"ily\": \"I love you\",\n",
    "    \"ily2\": \"I love you too\",\n",
    "    \n",
    "    # Numbers and shorthand phrases\n",
    "    \"b4n\": \"bye for now\",\n",
    "    \"4u\": \"for you\",\n",
    "    \"4eva\": \"forever\",\n",
    "    \"2moro\": \"tomorrow\",\n",
    "    \"2day\": \"today\",\n",
    "    \"123\": \"I agree\",\n",
    "    \"4real\": \"for real\",\n",
    "    \n",
    "    # Curse words\n",
    "    \"wtf\": \"what the fuck\",\n",
    "    \"wth\": \"what the hell\",\n",
    "    \n",
    "    # Other social slang\n",
    "    \"rofl\": \"rolling on the floor laughing\",\n",
    "    \"lol\": \"laughing out loud\",\n",
    "    \"bff\": \"best friends forever\",\n",
    "    \"tbh\": \"to be honest\",\n",
    "    \"imo\": \"in my opinion\",\n",
    "    \"imho\": \"in my opinion\",\n",
    "    \"bih\": \"bitch\",\n",
    "    \"stan\": \"super fan\",\n",
    "    \"savage\": \"bold\",\n",
    "    \"noob\": \"newbie\",\n",
    "    \"goat\": \"greatest of all time\",\n",
    "    \"salty\": \"bitter\",\n",
    "    \"yeet\": \"to throw or excited\",\n",
    "    \"slay\": \"succeeding\",\n",
    "    \n",
    "    # Hashtags (optional)\n",
    "    \"#tbt\": \"throwback Thursday\",\n",
    "    \"#fomo\": \"fear of missing out\",\n",
    "    \"#yolo\": \"you only live once\"\n",
    "}\n",
    "\n",
    "emojis_dict = {\n",
    "    # Common emoji-to-text replacements\n",
    "    \":)\": \"happy\",\n",
    "    \":))\": \"happy\",\n",
    "    \":)))\": \"happy\",\n",
    "    \":)))\": \"happy\",\n",
    "    \":(\": \"sad\",\n",
    "    \":((\": \"sad\",\n",
    "    \":(((\": \"sad\",\n",
    "    \":D\": \"laughing\",\n",
    "    \"xD\": \"laughing\",\n",
    "    \":P\": \"playful\",\n",
    "    \"<3\": \"love\"\n",
    "}"
   ]
  },
  {
   "cell_type": "code",
   "execution_count": 129,
   "metadata": {},
   "outputs": [],
   "source": [
    "# Define the methods used for data cleaning\n",
    "\n",
    "def replace_percent_20(text):\n",
    "    return text.replace('%20', ' ')\n",
    "\n",
    "def replace_slang(tweet, slang_dict): # case insensitive\n",
    "    return ' '.join([slang_dict.get(word.lower(), word) for word in tweet.split()])\n",
    "\n",
    "def lemmatize_text(text):\n",
    "    # Process the text with spaCy\n",
    "    doc = nlp(text)\n",
    "    # Lemmatize each token and join them back into a string\n",
    "    lemmatized_words = [token.lemma_ for token in doc if token.text not in stop_words]\n",
    "    return ' '.join(lemmatized_words)\n",
    "\n",
    "def get_sentiment(text):\n",
    "    sentiment_score = sia.polarity_scores(text)\n",
    "\n",
    "    if sentiment_score['compound'] >= 0.05:\n",
    "        return 'Positive'\n",
    "    elif sentiment_score['compound'] <= -0.05:\n",
    "        return 'Negative'\n",
    "    else:\n",
    "        return 'Neutral'\n",
    "\n",
    "def clean_text(text):\n",
    "    if pd.isna(text):\n",
    "        return \"\"\n",
    "\n",
    "    # Remove mentions (e.g., @name)\n",
    "    text = re.sub(r'@\\w+', '', text)\n",
    "\n",
    "    # Remove URL links\n",
    "    text = re.sub(r'http\\S+|www\\S+|[a-zA-Z0-9.-]+\\.[a-zA-Z]{2,}', '', text)\n",
    "\n",
    "    # Remove # and split camel case (e.g., #BigFlood -> \"Big Flood\")\n",
    "    text = re.sub(r'#', '', text)\n",
    "    text = re.sub(r'([a-z])([A-Z])', r'\\1 \\2', text)\n",
    "\n",
    "     # Remove numbers (since they don't add meaningful information)\n",
    "    text = re.sub(r'\\d+', '', text)\n",
    "\n",
    "    # Remove multiple question and exclamation mark\n",
    "    text = re.sub(r'(\\?{2,}|\\!{2,})', '', text)\n",
    "\n",
    "    # Replace emojis\n",
    "    text = replace_slang(text, emojis_dict)\n",
    "\n",
    "    # Remove non-ASCII characters explicitly (just in case)\n",
    "    text = re.sub(r'[^\\x00-\\x7F]+', '', text)\n",
    "\n",
    "    # Remove special characters\n",
    "    text = re.sub(r'[^\\w\\s]', '', text)\n",
    "\n",
    "    # Explicitly remove underscores and hyphens\n",
    "    text = text.replace('_', '').replace('-', '')\n",
    "\n",
    "    # Replace slang words\n",
    "    text = replace_slang(text, slang_dict)\n",
    "\n",
    "    # Remove diacritic\n",
    "    text = unidecode.unidecode(text)\n",
    "\n",
    "    # Correct spelling using TextBlob # Not using it now, because it is computionally time consuming\n",
    "    # text = str(TextBlob(text).correct())\n",
    "\n",
    "    # Lowercase\n",
    "    text = text.lower()\n",
    "\n",
    "    cleaned_text = lemmatize_text(text)\n",
    "\n",
    "    return cleaned_text\n",
    "\n",
    "def clean_and_prepare_data(df):\n",
    "    clean_df = df.copy()\n",
    "\n",
    "    # Drop location column, because it doesn't bring any information about the disaster itself\n",
    "    clean_df.drop(columns=['location'], inplace=True)\n",
    "\n",
    "    # Fill missing values with empty values and clean it\n",
    "    clean_df['keyword'].fillna('', inplace=True)\n",
    "    clean_df['keyword'] = clean_df['keyword'].apply(clean_text)\n",
    "    clean_df['keyword'] = clean_df['keyword'].apply(replace_percent_20) #TODDO ???\n",
    "\n",
    "    clean_df['text'] = clean_df['text'].apply(clean_text)\n",
    "\n",
    "    # Combine 'keyword' and 'text' columns\n",
    "    clean_df['combined_text'] = clean_df.apply(lambda row: f\"{row['keyword']} {row['text']}\", axis=1)\n",
    "\n",
    "    # Add sentiment column, calculation of the sentiment is based on already cleaned combined_text column\n",
    "    clean_df['sentiment'] = clean_df['combined_text'].apply(get_sentiment)\n",
    "\n",
    "    return clean_df"
   ]
  },
  {
   "cell_type": "code",
   "execution_count": 130,
   "metadata": {},
   "outputs": [],
   "source": [
    "clean_train_data = clean_and_prepare_data(train_data)"
   ]
  },
  {
   "cell_type": "code",
   "execution_count": 131,
   "metadata": {},
   "outputs": [],
   "source": [
    "from sklearn.feature_extraction.text import TfidfVectorizer\n",
    "\n",
    "# Convert the text into numerical features using techniques like TF-IDF\n",
    "# TF (Term Frequency) counts how often a word appears in a tweet.\n",
    "# IDF (Inverse Document Frequency) reduces the impact of common words (like \"the\", \"and\"), giving more importance to rare, discriminative words like \"flood\", \"earthquake\", etc., which can indicate disasters.\n",
    "# TfidfVectorizer is simple and doesn't require complex preprocessing compared to deep learning methods like word embeddings (e.g., Word2Vec).\n",
    "\n",
    "vectorizer = TfidfVectorizer()\n",
    "vectorized_text = vectorizer.fit_transform(clean_train_data['combined_text'])"
   ]
  },
  {
   "cell_type": "code",
   "execution_count": 132,
   "metadata": {},
   "outputs": [],
   "source": [
    "# Transform sentiment to numerical values\n",
    "sentiment_mapping = {\n",
    "    'Negative': -1,\n",
    "    'Neutral': 0,\n",
    "    'Positive': 1\n",
    "}\n",
    "\n",
    "clean_train_data['sentiment_encoded'] = clean_train_data['sentiment'].map(sentiment_mapping)\n",
    "\n",
    "sentiment_encoded = np.array(clean_train_data['sentiment_encoded']).reshape(-1, 1) # reshape, so it can be used in hstack"
   ]
  },
  {
   "cell_type": "code",
   "execution_count": 112,
   "metadata": {},
   "outputs": [],
   "source": [
    "from scipy.sparse import hstack\n",
    "\n",
    "# Put together vectorized text with encoded sentiment using hstack to create feature matrix which can be later used as input to the model\n",
    "X_combined = hstack([vectorized_text, sentiment_encoded])"
   ]
  },
  {
   "cell_type": "code",
   "execution_count": 134,
   "metadata": {},
   "outputs": [
    {
     "data": {
      "text/plain": [
       "(7613, 12030)"
      ]
     },
     "execution_count": 134,
     "metadata": {},
     "output_type": "execute_result"
    }
   ],
   "source": [
    "X_combined.shape # here we can see that the feature matrix has 7613 rows and 12030 columns"
   ]
  },
  {
   "cell_type": "code",
   "execution_count": 143,
   "metadata": {},
   "outputs": [],
   "source": [
    "from sklearn.model_selection import train_test_split\n",
    "\n",
    "# Define target variable\n",
    "y = clean_train_data['target']\n",
    "\n",
    "# Split the data, use stratify to get the splits with equally distributed targets\n",
    "X_train, X_test, y_train, y_test = train_test_split(X_combined, y, test_size=0.2, random_state=42, stratify=y)"
   ]
  },
  {
   "cell_type": "code",
   "execution_count": 136,
   "metadata": {},
   "outputs": [
    {
     "data": {
      "text/plain": [
       "(6090, 12030)"
      ]
     },
     "execution_count": 136,
     "metadata": {},
     "output_type": "execute_result"
    }
   ],
   "source": [
    "X_train.shape"
   ]
  },
  {
   "cell_type": "code",
   "execution_count": 137,
   "metadata": {},
   "outputs": [
    {
     "data": {
      "text/plain": [
       "(1523, 12030)"
      ]
     },
     "execution_count": 137,
     "metadata": {},
     "output_type": "execute_result"
    }
   ],
   "source": [
    "X_test.shape"
   ]
  },
  {
   "cell_type": "code",
   "execution_count": 148,
   "metadata": {},
   "outputs": [
    {
     "name": "stdout",
     "output_type": "stream",
     "text": [
      "              precision    recall  f1-score   support\n",
      "\n",
      "           0       0.78      0.91      0.84       869\n",
      "           1       0.85      0.66      0.74       654\n",
      "\n",
      "    accuracy                           0.80      1523\n",
      "   macro avg       0.81      0.79      0.79      1523\n",
      "weighted avg       0.81      0.80      0.80      1523\n",
      "\n"
     ]
    }
   ],
   "source": [
    "# Let's try just some basic model such as Random Forest to see the evaluation metrics results\n",
    "\n",
    "from sklearn.ensemble import RandomForestClassifier\n",
    "from sklearn.metrics import classification_report\n",
    "\n",
    "clf_random_forest = RandomForestClassifier()\n",
    "\n",
    "clf_random_forest.fit(X_train, y_train)\n",
    "\n",
    "y_pred_random_forest = clf_random_forest.predict(X_test)\n",
    "\n",
    "print(classification_report(y_test, y_pred_random_forest))"
   ]
  },
  {
   "cell_type": "code",
   "execution_count": 153,
   "metadata": {},
   "outputs": [],
   "source": [
    "from sklearn.metrics import confusion_matrix\n",
    "import seaborn as sns\n",
    "\n",
    "def confusion_matrix_heat_map(y_pred):\n",
    "    cm = confusion_matrix(y_test, y_pred)\n",
    "\n",
    "    plt.figure(figsize=(6,4))\n",
    "    sns.heatmap(cm, annot=True, fmt='d', cmap='Blues', cbar=False, xticklabels=['Non-disaster', 'Disaster'], yticklabels=['Non-disaster', 'Disaster'])\n",
    "    plt.title('Confusion Matrix')\n",
    "    plt.xlabel('Predicted Labels')\n",
    "    plt.ylabel('True Labels')\n",
    "    plt.show()"
   ]
  },
  {
   "cell_type": "code",
   "execution_count": 154,
   "metadata": {},
   "outputs": [
    {
     "data": {
      "image/png": "[encoded data removed]",
      "text/plain": [
       "<Figure size 600x400 with 1 Axes>"
      ]
     },
     "metadata": {},
     "output_type": "display_data"
    }
   ],
   "source": [
    "confusion_matrix_heat_map(y_pred_random_forest)"
   ]
  },
  {
   "cell_type": "code",
   "execution_count": 147,
   "metadata": {},
   "outputs": [
    {
     "name": "stdout",
     "output_type": "stream",
     "text": [
      "              precision    recall  f1-score   support\n",
      "\n",
      "           0       0.80      0.90      0.85       869\n",
      "           1       0.84      0.70      0.76       654\n",
      "\n",
      "    accuracy                           0.81      1523\n",
      "   macro avg       0.82      0.80      0.81      1523\n",
      "weighted avg       0.82      0.81      0.81      1523\n",
      "\n"
     ]
    }
   ],
   "source": [
    "# Let's try Logistic Regression\n",
    "\n",
    "from sklearn.linear_model import LogisticRegression\n",
    "from sklearn.metrics import classification_report\n",
    "\n",
    "clf_log_regression = LogisticRegression()\n",
    "\n",
    "clf_log_regression.fit(X_train, y_train)\n",
    "\n",
    "y_pred_log_regression = clf_log_regression.predict(X_test)\n",
    "\n",
    "print(classification_report(y_test, y_pred_log_regression))"
   ]
  },
  {
   "cell_type": "code",
   "execution_count": 155,
   "metadata": {},
   "outputs": [
    {
     "data": {
      "image/png": "[encoded data removed]",
      "text/plain": [
       "<Figure size 600x400 with 1 Axes>"
      ]
     },
     "metadata": {},
     "output_type": "display_data"
    }
   ],
   "source": [
    "confusion_matrix_heat_map(y_pred_log_regression)"
   ]
  }
 ],
 "metadata": {
  "kernelspec": {
   "display_name": ".venv",
   "language": "python",
   "name": "python3"
  },
  "language_info": {
   "codemirror_mode": {
    "name": "ipython",
    "version": 3
   },
   "file_extension": ".py",
   "mimetype": "text/x-python",
   "name": "python",
   "nbconvert_exporter": "python",
   "pygments_lexer": "ipython3",
   "version": "3.8.10"
  }
 },
 "nbformat": 4,
 "nbformat_minor": 2
}

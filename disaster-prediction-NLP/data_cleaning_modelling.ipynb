{
 "cells": [
  {
   "cell_type": "code",
   "execution_count": 1,
   "metadata": {},
   "outputs": [],
   "source": [
    "# Import basic libraries\n",
    "import numpy as np\n",
    "import pandas as pd\n",
    "from matplotlib import pyplot as plt"
   ]
  },
  {
   "cell_type": "code",
   "execution_count": 40,
   "metadata": {},
   "outputs": [],
   "source": [
    "# Load datasets\n",
    "train_data = pd.read_csv(\"train.csv\") # Labeled dataset, used for training the model\n",
    "test_data = pd.read_csv(\"test.csv\") # Unlabeled dataset, will be used later for making the prediction"
   ]
  },
  {
   "cell_type": "code",
   "execution_count": null,
   "metadata": {},
   "outputs": [],
   "source": [
    "# Import libraries needed for working with text\n",
    "import re\n",
    "import unidecode\n",
    "# from textblob import TextBlob\n",
    "import nltk\n",
    "import ssl\n",
    "from nltk.corpus import stopwords\n",
    "from nltk.sentiment import SentimentIntensityAnalyzer\n",
    "\n",
    "# This is needed for nltk.download(...), otherwise downloading the NLTK files return errors\n",
    "try:\n",
    "    _create_unverified_https_context = ssl._create_unverified_context\n",
    "except AttributeError:\n",
    "    pass\n",
    "else:\n",
    "    ssl._create_default_https_context = _create_unverified_https_context\n",
    "\n",
    "# Download necessary NLTK data files\n",
    "nltk.download('stopwords')\n",
    "# nltk.download('wordnet')\n",
    "nltk.download('vader_lexicon')\n",
    "\n",
    "import spacy \n",
    "\n",
    "# Load the spaCy model, which is later used for lemmatization\n",
    "nlp = spacy.load('en_core_web_sm')\n",
    "stop_words = set(stopwords.words('english'))\n",
    "sia = SentimentIntensityAnalyzer()"
   ]
  },
  {
   "cell_type": "code",
   "execution_count": 125,
   "metadata": {},
   "outputs": [],
   "source": [
    "# Create custom dictionaries for slang words mapping\n",
    "\n",
    "slang_dict = {\n",
    "    # General abbreviations\n",
    "    \"u\": \"you\",\n",
    "    \"r\": \"are\",\n",
    "    \"ur\": \"your\",\n",
    "    \"urs\": \"yours\",\n",
    "    \"gr8\": \"great\",\n",
    "    \"brb\": \"be right back\",\n",
    "    \"btw\": \"by the way\",\n",
    "    \"idk\": \"I don't know\",\n",
    "    \"imo\": \"in my opinion\",\n",
    "    \"imho\": \"in my humble opinion\",\n",
    "    \"lmk\": \"let me know\",\n",
    "    \"omg\": \"oh my god\",\n",
    "    \"omfg\": \"oh my f***ing god\",\n",
    "    \"ttyl\": \"talk to you later\",\n",
    "    \"smh\": \"shaking my head\",\n",
    "    \"fyi\": \"for your information\",\n",
    "    \"jk\": \"just kidding\",\n",
    "    \"nvm\": \"never mind\",\n",
    "    \"bc\": \"because\",\n",
    "    \"pls\": \"please\",\n",
    "    \"plss\": \"please\",\n",
    "    \"plsss\": \"please\",\n",
    "    \"plz\": \"please\",\n",
    "    \"thx\": \"thanks\",\n",
    "    \"k\": \"okay\",\n",
    "    \"tho\": \"though\",\n",
    "    \"b4\": \"before\",\n",
    "    \"asap\": \"as soon as possible\",\n",
    "    \"bday\": \"birthday\",\n",
    "    \"g2g\": \"got to go\",\n",
    "    \"atm\": \"at the moment\",\n",
    "    \"grats\": \"congratulations\",\n",
    "    \"congrats\": \"congratulations\",\n",
    "    \"omw\": \"on my way\",\n",
    "    \"sry\": \"sorry\",\n",
    "    \"thru\": \"through\",\n",
    "    \"ttys\": \"talk to you soon\",\n",
    "    \"w/\": \"with\",\n",
    "    \"w/o\": \"without\",\n",
    "    \"pkwy\": \"parkway\",\n",
    "    \n",
    "    # Social media abbreviations\n",
    "    \"fb\": \"Facebook\",\n",
    "    \"ig\": \"Instagram\",\n",
    "    \"yt\": \"YouTube\",\n",
    "    \"dm\": \"direct message\",\n",
    "    \"rt\": \"retweet\",\n",
    "    \"irl\": \"in real life\",\n",
    "    \"fomo\": \"fear of missing out\",\n",
    "    \"tbt\": \"throwback Thursday\",\n",
    "    \"lmao\": \"laughing my a** off\",\n",
    "    \"lmfao\": \"laughing my f***ing a** off\",\n",
    "    \"yolo\": \"you only live once\",\n",
    "    \"icymi\": \"in case you missed it\",\n",
    "    \"hmu\": \"hit me up\",\n",
    "    \"sm\": \"so much\",\n",
    "    \n",
    "    # Text message and internet slang\n",
    "    \"y\": \"why\",\n",
    "    \"kinda\": \"kind of\",\n",
    "    \"gonna\": \"going to\",\n",
    "    \"wanna\": \"want to\",\n",
    "    \"gotta\": \"got to\",\n",
    "    \"finna\": \"fixing to\",\n",
    "    \"lemme\": \"let me\",\n",
    "    \"cya\": \"see you\",\n",
    "    \"cu\": \"see you\",\n",
    "    \"ppl\": \"people\",\n",
    "    \"luv\": \"love\",\n",
    "    \"bby\": \"baby\",\n",
    "    \"bae\": \"before anyone else\",\n",
    "    \"np\": \"no problem\",\n",
    "    \"rn\": \"right now\",\n",
    "    \"wyd\": \"what are you doing?\",\n",
    "    \"wya\": \"where you at?\",\n",
    "    \"ikr\": \"I know, right?\",\n",
    "    \"fam\": \"family\",\n",
    "    \"bruh\": \"brother\",\n",
    "    \"sis\": \"sister\",\n",
    "    \"thx\": \"thanks\",\n",
    "    \"gg\": \"good game\",\n",
    "    \"ez\": \"easy\",\n",
    "    \"btwn\": \"between\",\n",
    "    \"ftw\": \"for the win\",\n",
    "    \"lit\": \"amazing\",\n",
    "    \"sus\": \"suspicious\",\n",
    "    \"l8r\": \"later\",\n",
    "    \"2nite\": \"tonight\",\n",
    "    \"tmi\": \"too much information\",\n",
    "    \"jk\": \"just kidding\",\n",
    "    \"oml\": \"oh my lord\",\n",
    "    \"idc\": \"I don't care\",\n",
    "    \"ily\": \"I love you\",\n",
    "    \"ily2\": \"I love you too\",\n",
    "    \n",
    "    # Numbers and shorthand phrases\n",
    "    \"b4n\": \"bye for now\",\n",
    "    \"4u\": \"for you\",\n",
    "    \"4eva\": \"forever\",\n",
    "    \"2moro\": \"tomorrow\",\n",
    "    \"2day\": \"today\",\n",
    "    \"123\": \"I agree\",\n",
    "    \"4real\": \"for real\",\n",
    "    \n",
    "    # Curse words\n",
    "    \"wtf\": \"what the fuck\",\n",
    "    \"wth\": \"what the hell\",\n",
    "    \n",
    "    # Other social slang\n",
    "    \"rofl\": \"rolling on the floor laughing\",\n",
    "    \"lol\": \"laughing out loud\",\n",
    "    \"bff\": \"best friends forever\",\n",
    "    \"tbh\": \"to be honest\",\n",
    "    \"imo\": \"in my opinion\",\n",
    "    \"imho\": \"in my opinion\",\n",
    "    \"bih\": \"bitch\",\n",
    "    \"stan\": \"super fan\",\n",
    "    \"savage\": \"bold\",\n",
    "    \"noob\": \"newbie\",\n",
    "    \"goat\": \"greatest of all time\",\n",
    "    \"salty\": \"bitter\",\n",
    "    \"yeet\": \"to throw or excited\",\n",
    "    \"slay\": \"succeeding\",\n",
    "    \n",
    "    # Hashtags (optional)\n",
    "    \"#tbt\": \"throwback Thursday\",\n",
    "    \"#fomo\": \"fear of missing out\",\n",
    "    \"#yolo\": \"you only live once\"\n",
    "}\n",
    "\n",
    "emojis_dict = {\n",
    "    # Common emoji-to-text replacements\n",
    "    \":)\": \"happy\",\n",
    "    \":))\": \"happy\",\n",
    "    \":)))\": \"happy\",\n",
    "    \":)))\": \"happy\",\n",
    "    \":(\": \"sad\",\n",
    "    \":((\": \"sad\",\n",
    "    \":(((\": \"sad\",\n",
    "    \":D\": \"laughing\",\n",
    "    \"xD\": \"laughing\",\n",
    "    \":P\": \"playful\",\n",
    "    \"<3\": \"love\"\n",
    "}"
   ]
  },
  {
   "cell_type": "code",
   "execution_count": 317,
   "metadata": {},
   "outputs": [],
   "source": [
    "def remove_conflicting_rows(df, text_column, target_column):\n",
    "    # Group by text column and filter for rows with conflicting targets\n",
    "    conflicting_groups = df.groupby(text_column).filter(lambda x: x[target_column].nunique() > 1)\n",
    "    \n",
    "    # Get the indices of these conflicting rows\n",
    "    conflicting_indices = conflicting_groups.index.tolist()\n",
    "    \n",
    "    # Drop the conflicting rows from the original DataFrame\n",
    "    clean_df = df.drop(index=conflicting_indices)\n",
    "    \n",
    "    return clean_df, conflicting_indices"
   ]
  },
  {
   "cell_type": "code",
   "execution_count": 316,
   "metadata": {},
   "outputs": [],
   "source": [
    "# Define the methods used for data cleaning\n",
    "\n",
    "def replace_percent_20(text):\n",
    "    return text.replace('%20', ' ')\n",
    "\n",
    "def replace_slang(tweet, slang_dict): # case insensitive\n",
    "    return ' '.join([slang_dict.get(word.lower(), word) for word in tweet.split()])\n",
    "\n",
    "def lemmatize_text(text):\n",
    "    # Process the text with spaCy\n",
    "    doc = nlp(text)\n",
    "    # Lemmatize each token and join them back into a string\n",
    "    lemmatized_words = [token.lemma_ for token in doc if token.text not in stop_words]\n",
    "    return ' '.join(lemmatized_words)\n",
    "\n",
    "def get_sentiment(text):\n",
    "    sentiment_score = sia.polarity_scores(text)\n",
    "\n",
    "    if sentiment_score['compound'] >= 0.05:\n",
    "        return 'Positive'\n",
    "    elif sentiment_score['compound'] <= -0.05:\n",
    "        return 'Negative'\n",
    "    else:\n",
    "        return 'Neutral'\n",
    "\n",
    "def clean_text(text):\n",
    "    if pd.isna(text):\n",
    "        return \"\"\n",
    "\n",
    "    # Remove mentions (e.g., @name)\n",
    "    text = re.sub(r'@\\w+', '', text)\n",
    "\n",
    "    # Remove URL links\n",
    "    text = re.sub(r'http\\S+|www\\S+|[a-zA-Z0-9.-]+\\.[a-zA-Z]{2,}', '', text)\n",
    "\n",
    "    # Remove # and split camel case (e.g., #BigFlood -> \"Big Flood\")\n",
    "    text = re.sub(r'#', '', text)\n",
    "    text = re.sub(r'([a-z])([A-Z])', r'\\1 \\2', text)\n",
    "\n",
    "     # Remove numbers (since they don't add meaningful information)\n",
    "    text = re.sub(r'\\d+', '', text)\n",
    "\n",
    "    # Remove multiple question and exclamation mark\n",
    "    text = re.sub(r'(\\?{2,}|\\!{2,})', '', text)\n",
    "\n",
    "    # Replace emojis\n",
    "    text = replace_slang(text, emojis_dict)\n",
    "\n",
    "    # Remove non-ASCII characters explicitly (just in case)\n",
    "    text = re.sub(r'[^\\x00-\\x7F]+', '', text)\n",
    "\n",
    "    # Remove special characters\n",
    "    text = re.sub(r'[^\\w\\s]', '', text)\n",
    "\n",
    "    # Explicitly remove underscores and hyphens\n",
    "    text = text.replace('_', '').replace('-', '')\n",
    "\n",
    "    # Replace slang words\n",
    "    text = replace_slang(text, slang_dict)\n",
    "\n",
    "    # Remove diacritic\n",
    "    text = unidecode.unidecode(text)\n",
    "\n",
    "    text = text.replace('amp', ' ')\n",
    "\n",
    "    # Correct spelling using TextBlob # Not using it now, because it is computionally time consuming\n",
    "    # text = str(TextBlob(text).correct())\n",
    "\n",
    "    # Lowercase\n",
    "    text = text.lower()\n",
    "\n",
    "    cleaned_text = lemmatize_text(text)\n",
    "\n",
    "    return cleaned_text\n",
    "\n",
    "def clean_and_prepare_data(df):\n",
    "    clean_df = df.copy()\n",
    "\n",
    "    # Drop location column, because it doesn't bring any information about the disaster itself\n",
    "    clean_df.drop(columns=['location'], inplace=True)\n",
    "\n",
    "    # Fill missing values with empty values and clean it\n",
    "    clean_df['keyword'].fillna('', inplace=True)\n",
    "    clean_df['keyword'] = clean_df['keyword'].apply(clean_text)\n",
    "    clean_df['keyword'] = clean_df['keyword'].apply(replace_percent_20) #TODDO ???\n",
    "\n",
    "    clean_df['text'] = clean_df['text'].apply(clean_text)\n",
    "\n",
    "    # Combine 'keyword' and 'text' columns\n",
    "    clean_df['combined_text'] = clean_df.apply(lambda row: f\"{row['keyword']} {row['text']}\", axis=1)\n",
    "\n",
    "    # Add sentiment column, calculation of the sentiment is based on already cleaned combined_text column\n",
    "    clean_df['sentiment'] = clean_df['combined_text'].apply(get_sentiment)\n",
    "\n",
    "    return clean_df"
   ]
  },
  {
   "cell_type": "code",
   "execution_count": 318,
   "metadata": {},
   "outputs": [
    {
     "name": "stdout",
     "output_type": "stream",
     "text": [
      "Removed 55 conflicting rows.\n"
     ]
    }
   ],
   "source": [
    "clean_df, conflicting_indices = remove_conflicting_rows(train_data, 'text', 'target')\n",
    "\n",
    "print(f\"Removed {len(conflicting_indices)} conflicting rows.\")\n",
    "\n",
    "clean_train_data = clean_and_prepare_data(clean_df)\n",
    "# clean_train_data = clean_and_prepare_data(train_data)"
   ]
  },
  {
   "cell_type": "code",
   "execution_count": 175,
   "metadata": {},
   "outputs": [],
   "source": [
    "from sklearn.feature_extraction.text import TfidfVectorizer\n",
    "\n",
    "# Convert the text into numerical features using techniques like TF-IDF\n",
    "# TF (Term Frequency) counts how often a word appears in a tweet.\n",
    "# IDF (Inverse Document Frequency) reduces the impact of common words (like \"the\", \"and\"), giving more importance to rare, discriminative words like \"flood\", \"earthquake\", etc., which can indicate disasters.\n",
    "# TfidfVectorizer is simple and doesn't require complex preprocessing compared to deep learning methods like word embeddings (e.g., Word2Vec).\n",
    "\n",
    "vectorizer = TfidfVectorizer()\n",
    "vectorized_text = vectorizer.fit_transform(clean_train_data['combined_text'])"
   ]
  },
  {
   "cell_type": "code",
   "execution_count": 323,
   "metadata": {},
   "outputs": [],
   "source": [
    "# Transform sentiment to numerical values\n",
    "sentiment_mapping = {\n",
    "    'Negative': -1,\n",
    "    'Neutral': 0,\n",
    "    'Positive': 1\n",
    "}\n",
    "\n",
    "clean_train_data['sentiment_encoded'] = clean_train_data['sentiment'].map(sentiment_mapping)\n",
    "\n",
    "sentiment_encoded = np.array(clean_train_data['sentiment_encoded']).reshape(-1, 1) # reshape, so it can be used in hstack"
   ]
  },
  {
   "cell_type": "code",
   "execution_count": 177,
   "metadata": {},
   "outputs": [],
   "source": [
    "from scipy.sparse import hstack\n",
    "\n",
    "# Put together vectorized text with encoded sentiment using hstack to create feature matrix which can be later used as input to the model\n",
    "X_combined = hstack([vectorized_text, sentiment_encoded])"
   ]
  },
  {
   "cell_type": "code",
   "execution_count": 178,
   "metadata": {},
   "outputs": [
    {
     "data": {
      "text/plain": [
       "(7558, 12010)"
      ]
     },
     "execution_count": 178,
     "metadata": {},
     "output_type": "execute_result"
    }
   ],
   "source": [
    "X_combined.shape # here we can see that the feature matrix has 7613 rows and 12030 columns"
   ]
  },
  {
   "cell_type": "code",
   "execution_count": 255,
   "metadata": {},
   "outputs": [
    {
     "ename": "ValueError",
     "evalue": "Found input variables with inconsistent numbers of samples: [7558, 7613]",
     "output_type": "error",
     "traceback": [
      "\u001b[0;31m---------------------------------------------------------------------------\u001b[0m",
      "\u001b[0;31mValueError\u001b[0m                                Traceback (most recent call last)",
      "Cell \u001b[0;32mIn[255], line 7\u001b[0m\n\u001b[1;32m      4\u001b[0m y \u001b[38;5;241m=\u001b[39m clean_train_data[\u001b[38;5;124m'\u001b[39m\u001b[38;5;124mtarget\u001b[39m\u001b[38;5;124m'\u001b[39m]\n\u001b[1;32m      6\u001b[0m \u001b[38;5;66;03m# Split the data, use stratify to get the splits with equally distributed targets\u001b[39;00m\n\u001b[0;32m----> 7\u001b[0m X_train, X_test, y_train, y_test \u001b[38;5;241m=\u001b[39m \u001b[43mtrain_test_split\u001b[49m\u001b[43m(\u001b[49m\u001b[43mX_combined\u001b[49m\u001b[43m,\u001b[49m\u001b[43m \u001b[49m\u001b[43my\u001b[49m\u001b[43m,\u001b[49m\u001b[43m \u001b[49m\u001b[43mtest_size\u001b[49m\u001b[38;5;241;43m=\u001b[39;49m\u001b[38;5;241;43m0.2\u001b[39;49m\u001b[43m,\u001b[49m\u001b[43m \u001b[49m\u001b[43mrandom_state\u001b[49m\u001b[38;5;241;43m=\u001b[39;49m\u001b[38;5;241;43m42\u001b[39;49m\u001b[43m,\u001b[49m\u001b[43m \u001b[49m\u001b[43mstratify\u001b[49m\u001b[38;5;241;43m=\u001b[39;49m\u001b[43my\u001b[49m\u001b[43m)\u001b[49m\n",
      "File \u001b[0;32m~/Documents/DS Kurz/Projekty/disaster-prediction-NLP/.venv/lib/python3.8/site-packages/sklearn/utils/_param_validation.py:214\u001b[0m, in \u001b[0;36mvalidate_params.<locals>.decorator.<locals>.wrapper\u001b[0;34m(*args, **kwargs)\u001b[0m\n\u001b[1;32m    208\u001b[0m \u001b[38;5;28;01mtry\u001b[39;00m:\n\u001b[1;32m    209\u001b[0m     \u001b[38;5;28;01mwith\u001b[39;00m config_context(\n\u001b[1;32m    210\u001b[0m         skip_parameter_validation\u001b[38;5;241m=\u001b[39m(\n\u001b[1;32m    211\u001b[0m             prefer_skip_nested_validation \u001b[38;5;129;01mor\u001b[39;00m global_skip_validation\n\u001b[1;32m    212\u001b[0m         )\n\u001b[1;32m    213\u001b[0m     ):\n\u001b[0;32m--> 214\u001b[0m         \u001b[38;5;28;01mreturn\u001b[39;00m \u001b[43mfunc\u001b[49m\u001b[43m(\u001b[49m\u001b[38;5;241;43m*\u001b[39;49m\u001b[43margs\u001b[49m\u001b[43m,\u001b[49m\u001b[43m \u001b[49m\u001b[38;5;241;43m*\u001b[39;49m\u001b[38;5;241;43m*\u001b[39;49m\u001b[43mkwargs\u001b[49m\u001b[43m)\u001b[49m\n\u001b[1;32m    215\u001b[0m \u001b[38;5;28;01mexcept\u001b[39;00m InvalidParameterError \u001b[38;5;28;01mas\u001b[39;00m e:\n\u001b[1;32m    216\u001b[0m     \u001b[38;5;66;03m# When the function is just a wrapper around an estimator, we allow\u001b[39;00m\n\u001b[1;32m    217\u001b[0m     \u001b[38;5;66;03m# the function to delegate validation to the estimator, but we replace\u001b[39;00m\n\u001b[1;32m    218\u001b[0m     \u001b[38;5;66;03m# the name of the estimator by the name of the function in the error\u001b[39;00m\n\u001b[1;32m    219\u001b[0m     \u001b[38;5;66;03m# message to avoid confusion.\u001b[39;00m\n\u001b[1;32m    220\u001b[0m     msg \u001b[38;5;241m=\u001b[39m re\u001b[38;5;241m.\u001b[39msub(\n\u001b[1;32m    221\u001b[0m         \u001b[38;5;124mr\u001b[39m\u001b[38;5;124m\"\u001b[39m\u001b[38;5;124mparameter of \u001b[39m\u001b[38;5;124m\\\u001b[39m\u001b[38;5;124mw+ must be\u001b[39m\u001b[38;5;124m\"\u001b[39m,\n\u001b[1;32m    222\u001b[0m         \u001b[38;5;124mf\u001b[39m\u001b[38;5;124m\"\u001b[39m\u001b[38;5;124mparameter of \u001b[39m\u001b[38;5;132;01m{\u001b[39;00mfunc\u001b[38;5;241m.\u001b[39m\u001b[38;5;18m__qualname__\u001b[39m\u001b[38;5;132;01m}\u001b[39;00m\u001b[38;5;124m must be\u001b[39m\u001b[38;5;124m\"\u001b[39m,\n\u001b[1;32m    223\u001b[0m         \u001b[38;5;28mstr\u001b[39m(e),\n\u001b[1;32m    224\u001b[0m     )\n",
      "File \u001b[0;32m~/Documents/DS Kurz/Projekty/disaster-prediction-NLP/.venv/lib/python3.8/site-packages/sklearn/model_selection/_split.py:2646\u001b[0m, in \u001b[0;36mtrain_test_split\u001b[0;34m(test_size, train_size, random_state, shuffle, stratify, *arrays)\u001b[0m\n\u001b[1;32m   2643\u001b[0m \u001b[38;5;28;01mif\u001b[39;00m n_arrays \u001b[38;5;241m==\u001b[39m \u001b[38;5;241m0\u001b[39m:\n\u001b[1;32m   2644\u001b[0m     \u001b[38;5;28;01mraise\u001b[39;00m \u001b[38;5;167;01mValueError\u001b[39;00m(\u001b[38;5;124m\"\u001b[39m\u001b[38;5;124mAt least one array required as input\u001b[39m\u001b[38;5;124m\"\u001b[39m)\n\u001b[0;32m-> 2646\u001b[0m arrays \u001b[38;5;241m=\u001b[39m \u001b[43mindexable\u001b[49m\u001b[43m(\u001b[49m\u001b[38;5;241;43m*\u001b[39;49m\u001b[43marrays\u001b[49m\u001b[43m)\u001b[49m\n\u001b[1;32m   2648\u001b[0m n_samples \u001b[38;5;241m=\u001b[39m _num_samples(arrays[\u001b[38;5;241m0\u001b[39m])\n\u001b[1;32m   2649\u001b[0m n_train, n_test \u001b[38;5;241m=\u001b[39m _validate_shuffle_split(\n\u001b[1;32m   2650\u001b[0m     n_samples, test_size, train_size, default_test_size\u001b[38;5;241m=\u001b[39m\u001b[38;5;241m0.25\u001b[39m\n\u001b[1;32m   2651\u001b[0m )\n",
      "File \u001b[0;32m~/Documents/DS Kurz/Projekty/disaster-prediction-NLP/.venv/lib/python3.8/site-packages/sklearn/utils/validation.py:453\u001b[0m, in \u001b[0;36mindexable\u001b[0;34m(*iterables)\u001b[0m\n\u001b[1;32m    434\u001b[0m \u001b[38;5;250m\u001b[39m\u001b[38;5;124;03m\"\"\"Make arrays indexable for cross-validation.\u001b[39;00m\n\u001b[1;32m    435\u001b[0m \n\u001b[1;32m    436\u001b[0m \u001b[38;5;124;03mChecks consistent length, passes through None, and ensures that everything\u001b[39;00m\n\u001b[0;32m   (...)\u001b[0m\n\u001b[1;32m    449\u001b[0m \u001b[38;5;124;03m    sparse matrix, or dataframe) or `None`.\u001b[39;00m\n\u001b[1;32m    450\u001b[0m \u001b[38;5;124;03m\"\"\"\u001b[39;00m\n\u001b[1;32m    452\u001b[0m result \u001b[38;5;241m=\u001b[39m [_make_indexable(X) \u001b[38;5;28;01mfor\u001b[39;00m X \u001b[38;5;129;01min\u001b[39;00m iterables]\n\u001b[0;32m--> 453\u001b[0m \u001b[43mcheck_consistent_length\u001b[49m\u001b[43m(\u001b[49m\u001b[38;5;241;43m*\u001b[39;49m\u001b[43mresult\u001b[49m\u001b[43m)\u001b[49m\n\u001b[1;32m    454\u001b[0m \u001b[38;5;28;01mreturn\u001b[39;00m result\n",
      "File \u001b[0;32m~/Documents/DS Kurz/Projekty/disaster-prediction-NLP/.venv/lib/python3.8/site-packages/sklearn/utils/validation.py:407\u001b[0m, in \u001b[0;36mcheck_consistent_length\u001b[0;34m(*arrays)\u001b[0m\n\u001b[1;32m    405\u001b[0m uniques \u001b[38;5;241m=\u001b[39m np\u001b[38;5;241m.\u001b[39munique(lengths)\n\u001b[1;32m    406\u001b[0m \u001b[38;5;28;01mif\u001b[39;00m \u001b[38;5;28mlen\u001b[39m(uniques) \u001b[38;5;241m>\u001b[39m \u001b[38;5;241m1\u001b[39m:\n\u001b[0;32m--> 407\u001b[0m     \u001b[38;5;28;01mraise\u001b[39;00m \u001b[38;5;167;01mValueError\u001b[39;00m(\n\u001b[1;32m    408\u001b[0m         \u001b[38;5;124m\"\u001b[39m\u001b[38;5;124mFound input variables with inconsistent numbers of samples: \u001b[39m\u001b[38;5;132;01m%r\u001b[39;00m\u001b[38;5;124m\"\u001b[39m\n\u001b[1;32m    409\u001b[0m         \u001b[38;5;241m%\u001b[39m [\u001b[38;5;28mint\u001b[39m(l) \u001b[38;5;28;01mfor\u001b[39;00m l \u001b[38;5;129;01min\u001b[39;00m lengths]\n\u001b[1;32m    410\u001b[0m     )\n",
      "\u001b[0;31mValueError\u001b[0m: Found input variables with inconsistent numbers of samples: [7558, 7613]"
     ]
    }
   ],
   "source": [
    "from sklearn.model_selection import train_test_split\n",
    "\n",
    "# Define target variable\n",
    "y = clean_train_data['target']\n",
    "\n",
    "# Split the data, use stratify to get the splits with equally distributed targets\n",
    "X_train, X_test, y_train, y_test = train_test_split(X_combined, y, test_size=0.2, random_state=42, stratify=y)"
   ]
  },
  {
   "cell_type": "code",
   "execution_count": 180,
   "metadata": {},
   "outputs": [
    {
     "data": {
      "text/plain": [
       "(6046, 12010)"
      ]
     },
     "execution_count": 180,
     "metadata": {},
     "output_type": "execute_result"
    }
   ],
   "source": [
    "X_train.shape"
   ]
  },
  {
   "cell_type": "code",
   "execution_count": 181,
   "metadata": {},
   "outputs": [
    {
     "data": {
      "text/plain": [
       "(1512, 12010)"
      ]
     },
     "execution_count": 181,
     "metadata": {},
     "output_type": "execute_result"
    }
   ],
   "source": [
    "X_test.shape"
   ]
  },
  {
   "cell_type": "code",
   "execution_count": 182,
   "metadata": {},
   "outputs": [
    {
     "name": "stdout",
     "output_type": "stream",
     "text": [
      "              precision    recall  f1-score   support\n",
      "\n",
      "           0       0.76      0.90      0.82       863\n",
      "           1       0.83      0.62      0.71       649\n",
      "\n",
      "    accuracy                           0.78      1512\n",
      "   macro avg       0.79      0.76      0.76      1512\n",
      "weighted avg       0.79      0.78      0.77      1512\n",
      "\n"
     ]
    }
   ],
   "source": [
    "# Let's try just some basic model such as Random Forest to see the evaluation metrics results\n",
    "\n",
    "from sklearn.ensemble import RandomForestClassifier\n",
    "from sklearn.metrics import classification_report\n",
    "\n",
    "clf_random_forest = RandomForestClassifier()\n",
    "\n",
    "clf_random_forest.fit(X_train, y_train)\n",
    "\n",
    "y_pred_random_forest = clf_random_forest.predict(X_test)\n",
    "\n",
    "print(classification_report(y_test, y_pred_random_forest))"
   ]
  },
  {
   "cell_type": "code",
   "execution_count": 183,
   "metadata": {},
   "outputs": [],
   "source": [
    "from sklearn.metrics import confusion_matrix\n",
    "import seaborn as sns\n",
    "\n",
    "def confusion_matrix_heat_map(y_pred):\n",
    "    cm = confusion_matrix(y_test, y_pred)\n",
    "\n",
    "    plt.figure(figsize=(6,4))\n",
    "    sns.heatmap(cm, annot=True, fmt='d', cmap='Blues', cbar=False, xticklabels=['Non-disaster', 'Disaster'], yticklabels=['Non-disaster', 'Disaster'])\n",
    "    plt.title('Confusion Matrix')\n",
    "    plt.xlabel('Predicted Labels')\n",
    "    plt.ylabel('True Labels')\n",
    "    plt.show()"
   ]
  },
  {
   "cell_type": "code",
   "execution_count": 184,
   "metadata": {},
   "outputs": [
    {
     "data": {
      "image/png": "[encoded data removed]",
      "text/plain": [
       "<Figure size 600x400 with 1 Axes>"
      ]
     },
     "metadata": {},
     "output_type": "display_data"
    }
   ],
   "source": [
    "confusion_matrix_heat_map(y_pred_random_forest)"
   ]
  },
  {
   "cell_type": "code",
   "execution_count": 185,
   "metadata": {},
   "outputs": [
    {
     "name": "stdout",
     "output_type": "stream",
     "text": [
      "              precision    recall  f1-score   support\n",
      "\n",
      "           0       0.79      0.88      0.83       863\n",
      "           1       0.81      0.69      0.74       649\n",
      "\n",
      "    accuracy                           0.80      1512\n",
      "   macro avg       0.80      0.78      0.79      1512\n",
      "weighted avg       0.80      0.80      0.79      1512\n",
      "\n"
     ]
    }
   ],
   "source": [
    "# Let's try Logistic Regression\n",
    "\n",
    "from sklearn.linear_model import LogisticRegression\n",
    "from sklearn.metrics import classification_report\n",
    "\n",
    "clf_log_regression = LogisticRegression()\n",
    "\n",
    "clf_log_regression.fit(X_train, y_train)\n",
    "\n",
    "y_pred_log_regression = clf_log_regression.predict(X_test)\n",
    "\n",
    "print(classification_report(y_test, y_pred_log_regression))"
   ]
  },
  {
   "cell_type": "code",
   "execution_count": 186,
   "metadata": {},
   "outputs": [
    {
     "data": {
      "image/png": "[encoded data removed]",
      "text/plain": [
       "<Figure size 600x400 with 1 Axes>"
      ]
     },
     "metadata": {},
     "output_type": "display_data"
    }
   ],
   "source": [
    "confusion_matrix_heat_map(y_pred_log_regression)"
   ]
  },
  {
   "cell_type": "code",
   "execution_count": 187,
   "metadata": {},
   "outputs": [
    {
     "name": "stdout",
     "output_type": "stream",
     "text": [
      "              precision    recall  f1-score   support\n",
      "\n",
      "           0       0.77      0.89      0.83       863\n",
      "           1       0.82      0.65      0.72       649\n",
      "\n",
      "    accuracy                           0.79      1512\n",
      "   macro avg       0.79      0.77      0.77      1512\n",
      "weighted avg       0.79      0.79      0.78      1512\n",
      "\n"
     ]
    }
   ],
   "source": [
    "from sklearn.svm import SVC\n",
    "clf_svm = SVC(kernel='rbf') \n",
    "clf_svm.fit(X_train, y_train)\n",
    "\n",
    "y_pred_svm = clf_svm.predict(X_test)\n",
    "\n",
    "print(classification_report(y_test, y_pred_svm))"
   ]
  },
  {
   "cell_type": "code",
   "execution_count": 188,
   "metadata": {},
   "outputs": [
    {
     "data": {
      "image/png": "[encoded data removed]",
      "text/plain": [
       "<Figure size 600x400 with 1 Axes>"
      ]
     },
     "metadata": {},
     "output_type": "display_data"
    }
   ],
   "source": [
    "confusion_matrix_heat_map(y_pred_svm)"
   ]
  },
  {
   "cell_type": "code",
   "execution_count": 312,
   "metadata": {},
   "outputs": [
    {
     "name": "stdout",
     "output_type": "stream",
     "text": [
      "[('not', 534), ('get', 422), ('like', 390), ('fire', 370), ('go', 321), ('new', 241), ('news', 234), ('via', 220), ('people', 210), ('one', 210), ('say', 194), ('see', 186), ('video', 178), ('make', 174), ('burn', 167), ('kill', 167), ('crash', 164), ('bomb', 163), ('disaster', 159), ('time', 158), ('attack', 158), ('emergency', 157), ('come', 155), ('want', 151), ('year', 150), ('body', 149), ('day', 145), ('look', 144), ('would', 142), ('love', 139), ('police', 139), ('know', 139), ('man', 138), ('good', 138), ('take', 136), ('family', 136), ('home', 135), ('flood', 134), ('still', 129), ('building', 126), ('back', 126), ('storm', 126), ('life', 125), ('world', 125), ('watch', 124), ('think', 123), ('well', 121), ('we', 120), ('can', 120), ('california', 119), ('train', 119), ('suicide', 118), ('work', 115), ('collapse', 115), ('car', 114), ('loud', 112), ('scream', 111), ('death', 111), ('retweet', 109), ('first', 109), ('pm', 105), ('cause', 104), ('nuclear', 104), ('need', 101), ('bag', 101), ('two', 98), ('wreck', 98), ('laugh', 98), ('today', 97), ('drown', 97), ('dead', 96), ('accident', 96), ('destroy', 95), ('let', 95), ('war', 94), ('full', 92), ('plan', 91), ('god', 90), ('fear', 90), ('hiroshima', 90), ('live', 89), ('could', 89), ('help', 88), ('way', 88), ('weapon', 88), ('may', 86), ('right', 84), ('many', 84), ('find', 84), ('feel', 84), ('last', 83), ('bad', 83), ('blow', 83), ('wound', 83), ('wildfire', 82), ('use', 82), ('big', 81), ('injury', 81), ('service', 81), ('survive', 81)]\n",
      "Total unique words: 11947\n"
     ]
    },
    {
     "data": {
      "image/png": "[encoded data removed]",
      "text/plain": [
       "<Figure size 640x480 with 1 Axes>"
      ]
     },
     "metadata": {},
     "output_type": "display_data"
    },
    {
     "name": "stdout",
     "output_type": "stream",
     "text": [
      "Average sequence length: 8.742524477374968\n",
      "Max sequence length: 23\n"
     ]
    }
   ],
   "source": [
    "from keras.preprocessing.text import Tokenizer\n",
    "\n",
    "# To inspect word frequency\n",
    "tokenizer = Tokenizer()\n",
    "tokenizer.fit_on_texts(clean_train_data['text'])\n",
    "word_counts = tokenizer.word_counts\n",
    "\n",
    "# Sort words by frequency\n",
    "sorted_words = sorted(word_counts.items(), key=lambda x: x[1], reverse=True)\n",
    "\n",
    "# View the top 10 most common words\n",
    "print(sorted_words[:100])\n",
    "\n",
    "# Get the number of unique words\n",
    "print(f\"Total unique words: {len(word_counts)}\")\n",
    "\n",
    "sequences = tokenizer.texts_to_sequences(clean_train_data['text'])\n",
    "# Get the lengths of each sequence\n",
    "sequence_lengths = [len(seq) for seq in sequences]\n",
    "\n",
    "# Plot distribution of sequence lengths\n",
    "import matplotlib.pyplot as plt\n",
    "plt.hist(sequence_lengths, bins=30)\n",
    "plt.xlabel('Sequence Length')\n",
    "plt.ylabel('Frequency')\n",
    "plt.show()\n",
    "\n",
    "# Print some statistics\n",
    "print(f\"Average sequence length: {np.mean(sequence_lengths)}\")\n",
    "print(f\"Max sequence length: {np.max(sequence_lengths)}\")"
   ]
  },
  {
   "cell_type": "code",
   "execution_count": 331,
   "metadata": {},
   "outputs": [],
   "source": [
    "import setuptools.dist\n",
    "\n",
    "from tensorflow import keras\n",
    "from keras.preprocessing.text import Tokenizer\n",
    "from keras.utils import pad_sequences\n",
    "\n",
    "# Example data (text and target labels)\n",
    "texts = clean_train_data['combined_text']\n",
    "sentiments = np.array(clean_train_data['sentiment_encoded']).reshape(-1, 1) # reshape, so it can be used in hstack\n",
    "                              \n",
    "labels = clean_train_data['target']\n",
    "\n",
    "# Tokenize the text\n",
    "tokenizer = Tokenizer(num_words=11967)\n",
    "tokenizer.fit_on_texts(texts)\n",
    "sequences = tokenizer.texts_to_sequences(texts)\n",
    "\n",
    "# Pad sequences to ensure they have the same length\n",
    "max_sequence_length = 23\n",
    "X_text = pad_sequences(sequences, maxlen=max_sequence_length)\n",
    "X = np.hstack((X_text, sentiments))\n",
    "\n",
    "# Convert labels to a numpy array\n",
    "y = np.array(labels)\n",
    "\n",
    "# Split the data into training and test sets\n",
    "# Split the text data (X_text), sentiment data, and labels (y)\n",
    "X_text_train, X_text_test, sentiment_train, sentiment_test, y_train, y_test = train_test_split(\n",
    "    X_text, sentiment_encoded, y, test_size=0.2, random_state=42, stratify=y\n",
    ")\n",
    "#X_train, X_test, y_train, y_test = train_test_split(X, y, test_size=0.2, random_state=42, stratify=y)"
   ]
  },
  {
   "cell_type": "code",
   "execution_count": 325,
   "metadata": {},
   "outputs": [
    {
     "data": {
      "text/plain": [
       "array([[-1],\n",
       "       [ 0],\n",
       "       [ 0],\n",
       "       ...,\n",
       "       [-1],\n",
       "       [-1],\n",
       "       [-1]])"
      ]
     },
     "execution_count": 325,
     "metadata": {},
     "output_type": "execute_result"
    }
   ],
   "source": [
    "sentiment_train"
   ]
  },
  {
   "cell_type": "code",
   "execution_count": 374,
   "metadata": {},
   "outputs": [
    {
     "name": "stderr",
     "output_type": "stream",
     "text": [
      "WARNING:absl:At this time, the v2.11+ optimizer `tf.keras.optimizers.Adam` runs slowly on M1/M2 Macs, please use the legacy Keras optimizer instead, located at `tf.keras.optimizers.legacy.Adam`.\n",
      "WARNING:absl:There is a known slowdown when using v2.11+ Keras optimizers on M1/M2 Macs. Falling back to the legacy Keras optimizer, i.e., `tf.keras.optimizers.legacy.Adam`.\n"
     ]
    },
    {
     "name": "stdout",
     "output_type": "stream",
     "text": [
      "Model: \"model_30\"\n",
      "__________________________________________________________________________________________________\n",
      " Layer (type)                Output Shape                 Param #   Connected to                  \n",
      "==================================================================================================\n",
      " text_input (InputLayer)     [(None, 23)]                 0         []                            \n",
      "                                                                                                  \n",
      " embedding_57 (Embedding)    (None, 23, 100)              1196700   ['text_input[0][0]']          \n",
      "                                                                                                  \n",
      " sentiment_input (InputLaye  [(None, 1)]                  0         []                            \n",
      " r)                                                                                               \n",
      "                                                                                                  \n",
      " lstm_70 (LSTM)              (None, 32)                   17024     ['embedding_57[0][0]']        \n",
      "                                                                                                  \n",
      " dense_115 (Dense)           (None, 8)                    16        ['sentiment_input[0][0]']     \n",
      "                                                                                                  \n",
      " concatenate_31 (Concatenat  (None, 40)                   0         ['lstm_70[0][0]',             \n",
      " e)                                                                  'dense_115[0][0]']           \n",
      "                                                                                                  \n",
      " dense_116 (Dense)           (None, 32)                   1312      ['concatenate_31[0][0]']      \n",
      "                                                                                                  \n",
      " dropout_37 (Dropout)        (None, 32)                   0         ['dense_116[0][0]']           \n",
      "                                                                                                  \n",
      " batch_normalization_4 (Bat  (None, 32)                   128       ['dropout_37[0][0]']          \n",
      " chNormalization)                                                                                 \n",
      "                                                                                                  \n",
      " dense_117 (Dense)           (None, 1)                    33        ['batch_normalization_4[0][0]'\n",
      "                                                                    ]                             \n",
      "                                                                                                  \n",
      "==================================================================================================\n",
      "Total params: 1215213 (4.64 MB)\n",
      "Trainable params: 1215149 (4.64 MB)\n",
      "Non-trainable params: 64 (256.00 Byte)\n",
      "__________________________________________________________________________________________________\n"
     ]
    }
   ],
   "source": [
    "from keras import Sequential\n",
    "from keras import Model\n",
    "from keras.layers import Dense, Embedding, SimpleRNN, LSTM, Dropout, Input, Concatenate, BatchNormalization, Conv1D, MaxPooling1D, GlobalMaxPooling1D, concatenate\n",
    "from keras.regularizers import l2\n",
    "from keras.optimizers import Adam\n",
    "from keras import regularizers\n",
    "from keras.callbacks import EarlyStopping\n",
    "\n",
    "# Define the model\n",
    "vocab_size = 11967  # Number of unique words (based on tokenizer)\n",
    "embedding_dim = 100  # Size of word embedding vectors\n",
    "\n",
    "# Define the text input\n",
    "text_input = Input(shape=(max_sequence_length,), name='text_input')\n",
    "embedding_layer = Embedding(input_dim=vocab_size, output_dim=embedding_dim, input_length=max_sequence_length)(text_input)\n",
    "lstm_layer = LSTM(32)(embedding_layer)\n",
    "\n",
    "# Define sentiment input\n",
    "sentiment_input = Input(shape=(1,), name='sentiment_input')\n",
    "sentiment_dense = Dense(8, activation='relu', kernel_regularizer=regularizers.l2(0.01))(sentiment_input)\n",
    "\n",
    "# Concatenate the LSTM output with sentiment\n",
    "concatenated = Concatenate()([lstm_layer, sentiment_dense])\n",
    "dense_layer = Dense(32, activation='relu')(concatenated)\n",
    "dense_layer = Dropout(0.5)(dense_layer)\n",
    "dense_layer = BatchNormalization()(dense_layer)\n",
    "\n",
    "# Output layer (Binary classification)\n",
    "output = Dense(1, activation='sigmoid')(dense_layer)\n",
    "\n",
    "# Create the model\n",
    "model_lstm = Model(inputs=[text_input, sentiment_input], outputs=output)\n",
    "\n",
    "# Compile the model\n",
    "optimizer = Adam(learning_rate=0.0005)\n",
    "model_lstm.compile(optimizer=optimizer, loss='binary_crossentropy', metrics=['accuracy'])\n",
    "\n",
    "# Print model summary\n",
    "model_lstm.summary()"
   ]
  },
  {
   "cell_type": "code",
   "execution_count": 371,
   "metadata": {},
   "outputs": [
    {
     "name": "stdout",
     "output_type": "stream",
     "text": [
      "Epoch 1/50\n",
      "189/189 [==============================] - 3s 9ms/step - loss: 0.6921 - accuracy: 0.6047 - val_loss: 0.6501 - val_accuracy: 0.6376\n",
      "Epoch 2/50\n",
      "189/189 [==============================] - 1s 8ms/step - loss: 0.4374 - accuracy: 0.8339 - val_loss: 0.4970 - val_accuracy: 0.8003\n",
      "Epoch 3/50\n",
      "189/189 [==============================] - 2s 8ms/step - loss: 0.2962 - accuracy: 0.9011 - val_loss: 0.4927 - val_accuracy: 0.7870\n",
      "Epoch 4/50\n",
      "189/189 [==============================] - 2s 10ms/step - loss: 0.2077 - accuracy: 0.9390 - val_loss: 0.5980 - val_accuracy: 0.7851\n",
      "Epoch 5/50\n",
      "189/189 [==============================] - 2s 8ms/step - loss: 0.1703 - accuracy: 0.9522 - val_loss: 0.6528 - val_accuracy: 0.7665\n",
      "Epoch 6/50\n",
      "189/189 [==============================] - 2s 8ms/step - loss: 0.1370 - accuracy: 0.9648 - val_loss: 0.6998 - val_accuracy: 0.7738\n"
     ]
    }
   ],
   "source": [
    "# Set up early stopping\n",
    "early_stopping = EarlyStopping(monitor='val_loss', patience=3, restore_best_weights=True)\n",
    "\n",
    "# Train the model\n",
    "history = model_lstm.fit(\n",
    "    [X_text_train, sentiment_train],\n",
    "    y_train,\n",
    "    epochs=50,\n",
    "    batch_size=32,\n",
    "    validation_data=([X_text_test, sentiment_test], y_test),\n",
    "    callbacks=[early_stopping]\n",
    ")"
   ]
  },
  {
   "cell_type": "code",
   "execution_count": 375,
   "metadata": {},
   "outputs": [
    {
     "name": "stderr",
     "output_type": "stream",
     "text": [
      "WARNING:absl:At this time, the v2.11+ optimizer `tf.keras.optimizers.Adam` runs slowly on M1/M2 Macs, please use the legacy Keras optimizer instead, located at `tf.keras.optimizers.legacy.Adam`.\n",
      "WARNING:absl:There is a known slowdown when using v2.11+ Keras optimizers on M1/M2 Macs. Falling back to the legacy Keras optimizer, i.e., `tf.keras.optimizers.legacy.Adam`.\n"
     ]
    },
    {
     "name": "stdout",
     "output_type": "stream",
     "text": [
      "Model: \"model_31\"\n",
      "__________________________________________________________________________________________________\n",
      " Layer (type)                Output Shape                 Param #   Connected to                  \n",
      "==================================================================================================\n",
      " text_input (InputLayer)     [(None, 23)]                 0         []                            \n",
      "                                                                                                  \n",
      " embedding_58 (Embedding)    (None, 23, 100)              1196700   ['text_input[0][0]']          \n",
      "                                                                                                  \n",
      " conv1d_2 (Conv1D)           (None, 19, 128)              64128     ['embedding_58[0][0]']        \n",
      "                                                                                                  \n",
      " max_pooling1d_2 (MaxPoolin  (None, 9, 128)               0         ['conv1d_2[0][0]']            \n",
      " g1D)                                                                                             \n",
      "                                                                                                  \n",
      " conv1d_3 (Conv1D)           (None, 5, 128)               82048     ['max_pooling1d_2[0][0]']     \n",
      "                                                                                                  \n",
      " max_pooling1d_3 (MaxPoolin  (None, 2, 128)               0         ['conv1d_3[0][0]']            \n",
      " g1D)                                                                                             \n",
      "                                                                                                  \n",
      " global_max_pooling1d_1 (Gl  (None, 128)                  0         ['max_pooling1d_3[0][0]']     \n",
      " obalMaxPooling1D)                                                                                \n",
      "                                                                                                  \n",
      " sentiment_input (InputLaye  [(None, 1)]                  0         []                            \n",
      " r)                                                                                               \n",
      "                                                                                                  \n",
      " concatenate_32 (Concatenat  (None, 129)                  0         ['global_max_pooling1d_1[0][0]\n",
      " e)                                                                 ',                            \n",
      "                                                                     'sentiment_input[0][0]']     \n",
      "                                                                                                  \n",
      " dense_118 (Dense)           (None, 64)                   8320      ['concatenate_32[0][0]']      \n",
      "                                                                                                  \n",
      " dense_119 (Dense)           (None, 1)                    65        ['dense_118[0][0]']           \n",
      "                                                                                                  \n",
      "==================================================================================================\n",
      "Total params: 1351261 (5.15 MB)\n",
      "Trainable params: 1351261 (5.15 MB)\n",
      "Non-trainable params: 0 (0.00 Byte)\n",
      "__________________________________________________________________________________________________\n"
     ]
    }
   ],
   "source": [
    "\n",
    "# Input for text sequences\n",
    "text_input = Input(shape=(max_sequence_length,), name='text_input')\n",
    "embedded_text = Embedding(input_dim=vocab_size, output_dim=embedding_dim, input_length=max_sequence_length)(text_input)\n",
    "\n",
    "# CNN layers\n",
    "conv1 = Conv1D(filters=128, kernel_size=5, activation='relu')(embedded_text)\n",
    "pool1 = MaxPooling1D(pool_size=2)(conv1)\n",
    "\n",
    "conv2 = Conv1D(filters=128, kernel_size=5, activation='relu')(pool1)\n",
    "pool2 = MaxPooling1D(pool_size=2)(conv2)\n",
    "\n",
    "# Global max pooling to reduce dimensionality\n",
    "global_pool = GlobalMaxPooling1D()(pool2)\n",
    "\n",
    "# Input for sentiment feature\n",
    "sentiment_input = Input(shape=(1,), name='sentiment_input')\n",
    "\n",
    "# Concatenate CNN output and sentiment input\n",
    "combined = concatenate([global_pool, sentiment_input])\n",
    "\n",
    "# Dense layers after concatenation\n",
    "dense_layer = Dense(64, activation='relu')(combined)\n",
    "output = Dense(1, activation='sigmoid')(dense_layer)\n",
    "\n",
    "# Define the final model\n",
    "model_conv = Model(inputs=[text_input, sentiment_input], outputs=output)\n",
    "\n",
    "# Compile the model\n",
    "optimizer = Adam(learning_rate=0.001)\n",
    "model_conv.compile(optimizer=optimizer, loss='binary_crossentropy', metrics=['accuracy'])\n",
    "\n",
    "# Display model summary\n",
    "model_conv.summary()"
   ]
  },
  {
   "cell_type": "code",
   "execution_count": 376,
   "metadata": {},
   "outputs": [
    {
     "name": "stdout",
     "output_type": "stream",
     "text": [
      "Epoch 1/10\n",
      "189/189 [==============================] - 2s 8ms/step - loss: 0.5672 - accuracy: 0.7016 - val_loss: 0.4798 - val_accuracy: 0.7745\n",
      "Epoch 2/10\n",
      "189/189 [==============================] - 1s 7ms/step - loss: 0.3594 - accuracy: 0.8518 - val_loss: 0.4631 - val_accuracy: 0.7903\n",
      "Epoch 3/10\n",
      "189/189 [==============================] - 1s 6ms/step - loss: 0.2191 - accuracy: 0.9178 - val_loss: 0.6013 - val_accuracy: 0.7963\n",
      "Epoch 4/10\n",
      "189/189 [==============================] - 1s 6ms/step - loss: 0.1449 - accuracy: 0.9472 - val_loss: 0.6594 - val_accuracy: 0.7857\n",
      "Epoch 5/10\n",
      "189/189 [==============================] - 1s 6ms/step - loss: 0.1090 - accuracy: 0.9591 - val_loss: 0.7371 - val_accuracy: 0.7765\n"
     ]
    }
   ],
   "source": [
    "# Train the model\n",
    "history = model_conv.fit([X_text_train, sentiment_train], y_train,\n",
    "    validation_data=([X_text_test, sentiment_test], y_test),\n",
    "    epochs=10, \n",
    "    batch_size=32,\n",
    "    callbacks=[early_stopping]\n",
    ")"
   ]
  }
 ],
 "metadata": {
  "kernelspec": {
   "display_name": ".venv",
   "language": "python",
   "name": "python3"
  },
  "language_info": {
   "codemirror_mode": {
    "name": "ipython",
    "version": 3
   },
   "file_extension": ".py",
   "mimetype": "text/x-python",
   "name": "python",
   "nbconvert_exporter": "python",
   "pygments_lexer": "ipython3",
   "version": "3.8.10"
  }
 },
 "nbformat": 4,
 "nbformat_minor": 2
}
